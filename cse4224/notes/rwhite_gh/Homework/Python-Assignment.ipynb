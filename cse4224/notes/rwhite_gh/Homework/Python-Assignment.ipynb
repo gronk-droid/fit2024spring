{
 "cells": [
  {
   "cell_type": "markdown",
   "id": "2c8ab292-266f-4722-848f-1109966685d0",
   "metadata": {
    "tags": []
   },
   "source": [
    "# MTH 4224 / CSE 4224 - Python Assignment\n",
    "\n",
    "The goal of this assignment is to practice and become comfortable with basic Python functionality like loops, `if` statements, lists, functions, etc. In addition, I hope it serves as a good refresher for derivatives.\n",
    "\n",
    "**Deadline**: Jan 20, 2024\n",
    "\n",
    "**Points**: 35 **[+5 bonus]**\n",
    "\n",
    "**Note**: I did give some hints, but I did not teach about every built-in function you're going to need to use. This will *always* be the situation in real life. Be resourceful, read the documentation, Google your errors.\n",
    "\n",
    "**Academic Honesty**: Write your code from scratch. Learn from the Internet, talk to friends, ask me questions, but don't copy blocks of code. Every submission I grade should be unique.\n",
    "\n",
    "### Instructions\n",
    "\n",
    "Submit **one** Python notebook file for grading. Your file must include **mathematical work** (type it or insert pictures of your handwritten work), **text explanations** of your work, **well-commented code**, and the **outputs** from your code.\n",
    "\n",
    "### Math Refresher\n",
    "\n",
    "For the problems below, I'll remind you of some ideas from Calculus.\n",
    "\n",
    "* The $n$th degree **Taylor polynomial** an $n$-times differentiable function $f$ centered at $x=c$ is defined to be\n",
    "\n",
    "$$P_{n,c,f}(x)=\\sum\\limits_{j=0}^n \\frac{f^{(j)}(c)}{j!}(x-c)^j$$\n",
    "\n",
    "* **Taylor's Theorem** says, for some $t\\in(c,x)$,\n",
    "\n",
    "$$f(x) = P_{n,c,f}(x) + \\frac{f^{(n+1)}(t)}{n!}(x-t)^n(x-c)$$\n",
    "\n",
    "* This means the error between the original function $f$ and its $n$th degree Taylor polynomial $P_{n,c,f}$ is less than or equal to the maximum value the **remainder term** can take: $\\max\\limits_{t\\in(c,x)}\\left|\\frac{f^{(n+1)}(t)}{n!}(x-t)^n(x-c)\\right|$\n",
    "\n",
    "### Problems\n",
    "\n",
    "1. **[5 points]**. Derive formulas for $f^{(n)}(0)$ for $e^x$ and $\\frac{1}{1-x}$, and $f^{(n)}\\left(\\frac{\\pi}{2}\\right)$ for $\\sin\\left(x-\\frac{\\pi}{2}\\right)$. \n",
    "\n",
    "2. **[10 points]**. Write a Python function that outputs a Taylor polynomial of degree $n$ centered at $x=c$. The a function should take 5 inputs: a function $f$, a function $f^{(n)}$, the degree $n$ you want, a number $c$ for where the polynomial is centered, and a number $x$ where you want to compute it.\n",
    "\n",
    "    Demonstrate your Python function runs for $e^x$ and $\\frac{1}{1-x}$ centered at 0, and $\\sin\\left(x-\\frac{\\pi}{2}\\right)$ centered at $\\pi/2$. Show it works for a variety of $x$ and $n$ inputs.\n",
    "    \n",
    "3. **[5 points]**. Derive a numerical upper bound for the remainder term $\\max\\limits_{t\\in(c,x)}\\left|\\frac{f^{(n+1)}(t)}{n!}(x-t)^n(x-c)\\right|$ for $f(x)=e^x$ with $c=0$; for $\\frac{1}{1-x}$ with $c=0$; and for $\\sin\\left(x-\\frac{\\pi}{2}\\right)$ with $c=\\frac{\\pi}{2}$.\n",
    "\n",
    "\n",
    "4. **[10 points]**. Write a Python function that computes a Taylor polynomial up to whatever degree ensures the error is bounded by $\\varepsilon$ as per Taylor's Theorem. $\\varepsilon$ will be an additional input to the function but $n$ will not be an input.\n",
    "\n",
    "    Demonstrate your Python function runs for  $e^x$ and $\\frac{1}{1-x}$ centered at 0 and $\\sin\\left(x-\\frac{\\pi}{2}\\right)$ centered at $\\pi/2$. Show it works for a variety of $x$ and $\\varepsilon$ inputs. \n",
    "\n",
    "5. **[5 points]**. Use your code to compute values to make some plots for the following. [_Hint_: Learn to plot graphs with `matplotlib` for this.]\n",
    "\n",
    "    a. $P_{n,0,e^x}(x)$ on $[-5, 5]$ for $n=0, 1, 2, 3, 5, 10$ along with $f(x)=e^x$\n",
    "\n",
    "    b. $P_{n,0,\\frac{1}{1-x}}(x)$ on $[-0.9, 0.9]$ for $n=0, 1, 2, 3, 5, 10$ along with $f(x)=\\frac{1}{1-x}$\n",
    "\n",
    "    c. $P_{n,\\frac{\\pi}{2},\\sin\\left(x-\\frac{\\pi}{2}\\right)}(x)$ on $\\left[-\\frac{\\pi}{2}, \\frac{3\\pi}{2}\\right]$ for $n=0, 1, 2, 3, 5, 10$ along with $f(x)=\\sin\\left(x-\\frac{\\pi}{2}\\right)$\n",
    "    \n",
    "\n",
    "    \n",
    "**[Bonus +5 points]** Redo problems 4-5 using the integral form of the remainder term, which does not require the $\\max\\limits_t$ part:\n",
    "\n",
    "$$f(x)=P_{n,c,f}(x) + \\int\\limits_c^x \\frac{f^{(n+1)}(t)}{n!}(x-t)^n\\,dt$$\n",
    "\n",
    "[_Hint_: You will need to explore numerical integration capabilities of `numpy` or `scipy` or input hard-coded integral formulas for the specific input function $f$.]"
   ]
  },
  {
   "cell_type": "code",
   "execution_count": null,
   "id": "29dd510e-3858-4fcd-ae63-865afa254eb5",
   "metadata": {},
   "outputs": [],
   "source": []
  }
 ],
 "metadata": {
  "kernelspec": {
   "display_name": "Python 3 (ipykernel)",
   "language": "python",
   "name": "python3"
  },
  "language_info": {
   "codemirror_mode": {
    "name": "ipython",
    "version": 3
   },
   "file_extension": ".py",
   "mimetype": "text/x-python",
   "name": "python",
   "nbconvert_exporter": "python",
   "pygments_lexer": "ipython3",
   "version": "3.10.9"
  }
 },
 "nbformat": 4,
 "nbformat_minor": 5
}
