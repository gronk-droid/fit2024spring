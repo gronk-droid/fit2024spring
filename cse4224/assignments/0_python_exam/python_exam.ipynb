{
 "cells": [
  {
   "cell_type": "markdown",
   "metadata": {},
   "source": [
    "### CSE4224: Python Exam\n",
    "Grant Butler | gbutler2020@my.fit.edu"
   ]
  },
  {
   "cell_type": "markdown",
   "metadata": {},
   "source": [
    "1. Derive formulas for $f^{(n)}(0)$ for $e^x$ and $\\frac{1}{1-x}$, and $f^{(n)}\\left(\\frac{\\pi}{2}\\right)$ for $\\sin\\left(x-\\frac{\\pi}{2}\\right)$."
   ]
  },
  {
   "cell_type": "markdown",
   "metadata": {},
   "source": [
    "for $e^x$\n",
    "$$\n",
    "e^x = \\sum\\limits_{n=0}^\\infty \\frac{x^n}{n!}\n",
    "$$\n",
    "\n",
    "<div > \n",
    "expands to\n",
    "</div>\n",
    "\n",
    "$$\n",
    "e^x = 1 + x + \\frac{x^2}{2!} + \\frac{x^3}{3!} + ...\n",
    "$$\n"
   ]
  },
  {
   "cell_type": "markdown",
   "metadata": {},
   "source": []
  }
 ],
 "metadata": {
  "language_info": {
   "name": "python"
  }
 },
 "nbformat": 4,
 "nbformat_minor": 2
}
